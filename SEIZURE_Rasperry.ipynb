{
  "cells": [
    {
      "cell_type": "markdown",
      "metadata": {
        "id": "view-in-github",
        "colab_type": "text"
      },
      "source": [
        "<a href=\"https://colab.research.google.com/github/abdibeke/Company-website/blob/master/SEIZURE_Rasperry.ipynb\" target=\"_parent\"><img src=\"https://colab.research.google.com/assets/colab-badge.svg\" alt=\"Open In Colab\"/></a>"
      ]
    },
    {
      "cell_type": "markdown",
      "metadata": {
        "id": "VI4bHsk8g2k8"
      },
      "source": [
        "# **Real-Time Seizure Detection and Alert System**\n",
        "### **Overview**\n",
        "\n",
        "This project implements a real-time seizure detection system using machine learning and sensor data, optimized for deployment on a Raspberry Pi 3 Model B. It prioritizes high recall to minimize missed seizures, efficient processing, and robust data handling.\n",
        "\n",
        "### **Key Objectives**\n",
        "\n",
        "*   **Maximize Recall:** Ensure detection of all potential seizures.\n",
        "*   **Real-Time Performance:** Achieve low-latency inference on Raspberry Pi 3 Model B.\n",
        "*   **Robust Preprocessing:** Manage noisy sensor data effectively.\n",
        "\n",
        "\n",
        "### **Workflow**\n",
        "\n",
        "1.   **Data Preprocessing**: Load, clean, and normalize sensor data.\n",
        "2.   **Feature Engineering**: Extract relevant features.\n",
        "3.   **Model Training**: Train Random Forest, SVM, and Neural Network models.\n",
        "4.   **Model Evaluation**: Assess performance and resource usage.\n",
        "5.   **Model Selection**: Select the optimal model.\n",
        "6.   **Raspberry Pi Deployment**: Export model and configurations.\n"
      ]
    },
    {
      "cell_type": "markdown",
      "metadata": {
        "id": "bccINTG8ldi6"
      },
      "source": [
        "## **Step 1: Library Import and Initialization**\n",
        "\n",
        "Imports and verifies required Python libraries.\n",
        "\n",
        "### **Libraries**\n",
        "\n",
        "\n",
        "*   **Data Processing:** Pandas, NumPy, JSON.\n",
        "*   **Visualization:** Matplotlib, Seaborn\n",
        "*   **Machine Learning:** Scikit-learn\n",
        "*   **Deep Learning:** TensorFlow/Keras\n",
        "*   **Class Balancing:** Imbalanced-learn (SMOTE).\n",
        "*   **Model Persistence:** Joblib"
      ]
    },
    {
      "cell_type": "code",
      "execution_count": 1,
      "metadata": {
        "colab": {
          "base_uri": "https://localhost:8080/"
        },
        "id": "Ck5iTz-Nf4Hb",
        "outputId": "327a3cd9-fc62-4be0-b350-95e5d26b186e"
      },
      "outputs": [
        {
          "output_type": "stream",
          "name": "stdout",
          "text": [
            "==================================================\n",
            "📦 Step 1: Importing Libraries\n",
            "==================================================\n",
            "✅ Libraries imported\n",
            "- Pandas: 2.2.2\n",
            "- Scikit-learn: 1.4.2\n",
            "- TensorFlow: 2.18.0\n"
          ]
        }
      ],
      "source": [
        "print(\"=\" * 50)\n",
        "print(\"📦 Step 1: Importing Libraries\")\n",
        "print(\"=\" * 50)\n",
        "\n",
        "try:\n",
        "    import pandas as pd\n",
        "    import numpy as np\n",
        "    import json\n",
        "    import matplotlib.pyplot as plt\n",
        "    import seaborn as sns\n",
        "    import joblib\n",
        "    from sklearn.preprocessing import MinMaxScaler\n",
        "    from sklearn.model_selection import train_test_split\n",
        "    from sklearn.metrics import accuracy_score, precision_score, recall_score, f1_score, roc_auc_score\n",
        "    from sklearn.ensemble import RandomForestClassifier\n",
        "    from sklearn.svm import LinearSVC\n",
        "    import tensorflow as tf\n",
        "    from tensorflow.keras.models import Sequential\n",
        "    from tensorflow.keras.layers import Dense, Dropout\n",
        "    from imblearn.over_sampling import SMOTE\n",
        "\n",
        "    print(\"✅ Libraries imported\")\n",
        "    print(f\"- Pandas: {pd.__version__}\")\n",
        "    print(f\"- Scikit-learn: {joblib.__version__}\")\n",
        "    print(f\"- TensorFlow: {tf.__version__}\")\n",
        "except ImportError as e:\n",
        "    print(f\"❌ Import error: {e}\")\n",
        "    exit()"
      ]
    },
    {
      "cell_type": "markdown",
      "metadata": {
        "id": "hGo9XHWhmx14"
      },
      "source": [
        "## **Step 2: Data Preparation**\n",
        "\n",
        "Prepares the dataset by cleaning, normalizing, and balancing it, with visualizations for class distributions and train/test splits.\n",
        "\n",
        "### **Sub-Steps**\n",
        "\n",
        "1. Load Dataset: Read CSV data.\n",
        "\n",
        "2. Identify Columns: Detect sensor and target columns.\n",
        "\n",
        "3. Convert Labels: Map labels to binary (0: normal, 1: seizure).\n",
        "\n",
        "4. Clean Data: Remove missing values.\n",
        "\n",
        "5. Normalize Features: Apply MinMax scaling.\n",
        "\n",
        "6. Balance Classes: Use SMOTE for oversampling minority class.\n",
        "\n",
        "7. Split Data: Create train/test sets."
      ]
    },
    {
      "cell_type": "code",
      "execution_count": 2,
      "metadata": {
        "colab": {
          "base_uri": "https://localhost:8080/",
          "height": 974
        },
        "id": "SZ9K7n-XmfX2",
        "outputId": "0acfd51f-2493-4f45-8672-e489726cafba"
      },
      "outputs": [
        {
          "output_type": "stream",
          "name": "stdout",
          "text": [
            "==================================================\n",
            "🔍 Step 2: Data Preparation\n",
            "==================================================\n",
            "✅ Loaded dataset: 1048575 samples, 10 features\n",
            "✔ Sensor features: 7\n",
            "✔ Target: seizure_status\n",
            "✔ Class distribution:\n",
            "seizure_status\n",
            "0    0.766742\n",
            "1    0.233258\n",
            "Name: proportion, dtype: float64\n",
            "✔ Removed 0 rows with missing values\n",
            "✔ Features normalized\n"
          ]
        },
        {
          "output_type": "display_data",
          "data": {
            "text/plain": [
              "<Figure size 1000x400 with 2 Axes>"
            ],
            "image/png": "[encoded data removed]"
          },
          "metadata": {}
        },
        {
          "output_type": "stream",
          "name": "stdout",
          "text": [
            "✔ Dataset balanced: 1607974 samples\n",
            "✔ Training set: 1286379 samples\n",
            "✔ Test set: 321595 samples\n"
          ]
        },
        {
          "output_type": "display_data",
          "data": {
            "text/plain": [
              "<Figure size 1200x400 with 3 Axes>"
            ],
            "image/png": "[encoded data removed]"
          },
          "metadata": {}
        }
      ],
      "source": [
        "print(\"=\" * 50)\n",
        "print(\"🔍 Step 2: Data Preparation\")\n",
        "print(\"=\" * 50)\n",
        "\n",
        "def handle_error(step, error):\n",
        "    print(f\"❌ Error in {step}: {error}\")\n",
        "    exit()\n",
        "\n",
        "# Load Data\n",
        "try:\n",
        "    data = pd.read_csv(\"/content/drive/MyDrive/Dataset/SHAR-100-20.csv\")\n",
        "    print(f\"✅ Loaded dataset: {data.shape[0]} samples, {data.shape[1]} features\")\n",
        "except Exception as e:\n",
        "    handle_error(\"loading dataset\", e)\n",
        "\n",
        "# Identify Columns\n",
        "if 'label' in data.columns:\n",
        "    data = data.rename(columns={'label': 'seizure_status'})\n",
        "sensor_cols = [col for col in data.columns if any(x in col.lower() for x in ['accel', 'gyro', 'hr', 'heart'])]\n",
        "target_col = next((col for col in data.columns if 'seizure' in col.lower() or 'status' in col.lower()), None)\n",
        "if not sensor_cols or not target_col:\n",
        "    handle_error(\"column identification\", \"Sensor or target columns not found\")\n",
        "print(f\"✔ Sensor features: {len(sensor_cols)}\")\n",
        "print(f\"✔ Target: {target_col}\")\n",
        "\n",
        "# Convert Labels\n",
        "try:\n",
        "    data[target_col] = data[target_col].replace({'normal': 0, 'seizure': 1, 'no': 0, 'yes': 1, 0: 0, 1: 1})\n",
        "    print(f\"✔ Class distribution:\\n{data[target_col].value_counts(normalize=True)}\")\n",
        "except Exception as e:\n",
        "    handle_error(\"label conversion\", e)\n",
        "\n",
        "# Clean Data\n",
        "try:\n",
        "    initial_count = len(data)\n",
        "    data = data[sensor_cols + [target_col]].dropna()\n",
        "    print(f\"✔ Removed {initial_count - len(data)} rows with missing values\")\n",
        "except Exception as e:\n",
        "    handle_error(\"data cleaning\", e)\n",
        "\n",
        "# Normalize Features\n",
        "try:\n",
        "    X = data[sensor_cols].values\n",
        "    y = data[target_col].values\n",
        "    scaler = MinMaxScaler().fit(X)\n",
        "    X = scaler.transform(X)\n",
        "    print(\"✔ Features normalized\")\n",
        "except Exception as e:\n",
        "    handle_error(\"feature normalization\", e)\n",
        "\n",
        "# Balance Classes with Visualization\n",
        "try:\n",
        "    plt.figure(figsize=(10, 4))\n",
        "    plt.subplot(1, 2, 1)\n",
        "    sns.countplot(x=y)\n",
        "    plt.title('Original Class Distribution')\n",
        "    plt.xlabel('Class (0: Normal, 1: Seizure)')\n",
        "    plt.ylabel('Count')\n",
        "\n",
        "    smote = SMOTE(random_state=42)\n",
        "    X, y = smote.fit_resample(X, y)\n",
        "\n",
        "    plt.subplot(1, 2, 2)\n",
        "    sns.countplot(x=y)\n",
        "    plt.title('Balanced Class Distribution (SMOTE)')\n",
        "    plt.xlabel('Class (0: Normal, 1: Seizure)')\n",
        "    plt.ylabel('Count')\n",
        "    plt.tight_layout()\n",
        "    plt.show()\n",
        "    print(f\"✔ Dataset balanced: {len(X)} samples\")\n",
        "except Exception as e:\n",
        "    handle_error(\"class balancing\", e)\n",
        "\n",
        "# Split Data with Visualization\n",
        "try:\n",
        "    X_train, X_test, y_train, y_test = train_test_split(X, y, test_size=0.2, random_state=42, stratify=y)\n",
        "    print(f\"✔ Training set: {X_train.shape[0]} samples\")\n",
        "    print(f\"✔ Test set: {X_test.shape[0]} samples\")\n",
        "\n",
        "    plt.figure(figsize=(12, 4))\n",
        "    plt.subplot(1, 3, 1)\n",
        "    sns.countplot(x=y)\n",
        "    plt.title('Full Dataset')\n",
        "    plt.xlabel('Class')\n",
        "\n",
        "    plt.subplot(1, 3, 2)\n",
        "    sns.countplot(x=y_train)\n",
        "    plt.title('Training Set')\n",
        "    plt.xlabel('Class')\n",
        "\n",
        "    plt.subplot(1, 3, 3)\n",
        "    sns.countplot(x=y_test)\n",
        "    plt.title('Test Set')\n",
        "    plt.xlabel('Class')\n",
        "    plt.tight_layout()\n",
        "    plt.show()\n",
        "except Exception as e:\n",
        "    handle_error(\"data splitting\", e)"
      ]
    },
    {
      "cell_type": "markdown",
      "metadata": {
        "id": "WjPGggBxqN5K"
      },
      "source": [
        "## **Step 3: Model Training**\n",
        "\n",
        "Trains three models: Random Forest, Linear SVM, and Neural Network.\n",
        "\n",
        "\n",
        "\n",
        "*   **Random Forest:** Configured with 35 trees, a maximum depth of 5, and a subsample ratio of 0.7.\n",
        "\n",
        "*   **Linear SVM:** Uses a regularization parameter C of 0.7 and a maximum of 2000 iterations.\n",
        "*   **Neural Network:** Features 10 ReLU neurons in the input layer, a 0.2 dropout rate, a single sigmoid output neuron, and is optimized with Adam.\n",
        "\n",
        "\n",
        "\n",
        "\n",
        "\n",
        "\n",
        "\n",
        "\n",
        "\n",
        "\n",
        "\n"
      ]
    },
    {
      "cell_type": "code",
      "execution_count": 3,
      "metadata": {
        "colab": {
          "base_uri": "https://localhost:8080/"
        },
        "id": "r8QCYZyBoZDO",
        "outputId": "28b9339d-ec5b-4467-932a-72eca48ceee4"
      },
      "outputs": [
        {
          "output_type": "stream",
          "name": "stdout",
          "text": [
            "==================================================\n",
            "⚙️ Step 3: Model Training\n",
            "==================================================\n",
            "✅ Random Forest trained\n",
            "✅ Linear SVM trained\n"
          ]
        },
        {
          "output_type": "stream",
          "name": "stderr",
          "text": [
            "/usr/local/lib/python3.11/dist-packages/keras/src/layers/core/dense.py:87: UserWarning: Do not pass an `input_shape`/`input_dim` argument to a layer. When using Sequential models, prefer using an `Input(shape)` object as the first layer in the model instead.\n",
            "  super().__init__(activity_regularizer=activity_regularizer, **kwargs)\n"
          ]
        },
        {
          "output_type": "stream",
          "name": "stdout",
          "text": [
            "✅ Neural Network trained\n"
          ]
        }
      ],
      "source": [
        "print(\"=\" * 50)\n",
        "print(\"⚙️ Step 3: Model Training\")\n",
        "print(\"=\" * 50)\n",
        "\n",
        "models = {}\n",
        "\n",
        "# Random Forest\n",
        "rf_model = RandomForestClassifier(n_estimators=50, max_depth=7, max_samples=0.8, random_state=42)\n",
        "rf_model.fit(X_train, y_train)\n",
        "models['RF'] = rf_model\n",
        "print(\"✅ Random Forest trained\")\n",
        "\n",
        "# Linear SVM\n",
        "svm_model = LinearSVC(C=0.7, dual=False, random_state=42, max_iter=2000)\n",
        "svm_model.fit(X_train, y_train)\n",
        "models['SVM'] = svm_model\n",
        "print(\"✅ Linear SVM trained\")\n",
        "\n",
        "# Neural Network\n",
        "nn_model = Sequential([\n",
        "    Dense(16, activation='relu', input_shape=(X_train.shape[1],)),\n",
        "    Dropout(0.2),\n",
        "    Dense(1, activation='sigmoid')\n",
        "])\n",
        "nn_model.compile(optimizer=tf.keras.optimizers.Adam(0.001), loss='binary_crossentropy', metrics=['accuracy'])\n",
        "nn_model.fit(X_train, y_train, epochs=50, batch_size=32, validation_split=0.2, verbose=0)\n",
        "models['NN'] = nn_model\n",
        "print(\"✅ Neural Network trained\")"
      ]
    },
    {
      "cell_type": "markdown",
      "metadata": {
        "id": "qbwSbR_Ml5MD"
      },
      "source": [
        "## **Step 4: Model Evaluation**\n",
        "\n",
        "Evaluates models on performance metrics and resource usage, with a bar plot comparing key metrics.\n",
        "\n",
        "**Metrics**\n",
        "*   Accuracy, Precision, Recall, F1 Score, ROC AUC\n",
        "*   Resource usage: Size (KB), Speed (μs), Parameters\n"
      ]
    },
    {
      "cell_type": "code",
      "execution_count": 4,
      "metadata": {
        "colab": {
          "base_uri": "https://localhost:8080/",
          "height": 738
        },
        "id": "GCkfbHWWrExV",
        "outputId": "8e8ff8ca-c98f-4378-eed3-c000a6a8697a"
      },
      "outputs": [
        {
          "output_type": "stream",
          "name": "stdout",
          "text": [
            "==================================================\n",
            "🔍 Step 4: Model Evaluation\n",
            "==================================================\n",
            "\u001b[1m10050/10050\u001b[0m \u001b[32m━━━━━━━━━━━━━━━━━━━━\u001b[0m\u001b[37m\u001b[0m \u001b[1m12s\u001b[0m 1ms/step\n"
          ]
        },
        {
          "output_type": "display_data",
          "data": {
            "text/plain": [
              "<Figure size 1000x600 with 1 Axes>"
            ],
            "image/png": "[encoded data removed]"
          },
          "metadata": {}
        },
        {
          "output_type": "stream",
          "name": "stdout",
          "text": [
            "\n",
            "📊 Model Comparison:\n",
            "  Model    Recall        F1  Accuracy  Size (KB)  Speed (ms)\n",
            "0    RF  1.000000  0.999534  0.999534       25.0          10\n",
            "2    NN  0.999739  0.998292  0.998290        0.6          20\n",
            "1   SVM  0.998794  0.988910  0.988800        0.0           5\n"
          ]
        }
      ],
      "source": [
        "print(\"=\" * 50)\n",
        "print(\"🔍 Step 4: Model Evaluation\")\n",
        "print(\"=\" * 50)\n",
        "\n",
        "def evaluate_models(models, X_test, y_test):\n",
        "    results = []\n",
        "    for name, model in models.items():\n",
        "        y_pred = (model.predict(X_test) > 0.5).astype(int) if name == 'NN' else model.predict(X_test)\n",
        "        results.append({\n",
        "            'Model': name,\n",
        "            'Accuracy': accuracy_score(y_test, y_pred),\n",
        "            'Precision': precision_score(y_test, y_pred),\n",
        "            'Recall': recall_score(y_test, y_pred),\n",
        "            'F1': f1_score(y_test, y_pred),\n",
        "            'ROC AUC': roc_auc_score(y_test, y_pred),\n",
        "            'Size (KB)': estimate_size(model, name),\n",
        "            'Speed (ms)': estimate_speed(model, name),\n",
        "            'Params': count_parameters(model, name)\n",
        "        })\n",
        "    return pd.DataFrame(results)\n",
        "\n",
        "def estimate_size(model, model_type):\n",
        "    if model_type == 'RF':\n",
        "        return round((50 * (2**7) * 4) / 1024, 1)  # Updated for 50 trees, depth 7\n",
        "    elif model_type == 'SVM':\n",
        "        return round((model.coef_.size * 4) / 1024, 1)\n",
        "    return round((model.count_params() * 4) / 1024, 1)\n",
        "\n",
        "def estimate_speed(model, model_type):\n",
        "    # Adjusted for Raspberry Pi 3 Model B (1.2 GHz quad-core, ~1GB RAM)\n",
        "    return {'RF': 10, 'SVM': 5, 'NN': 20}[model_type]  # ms, rough estimates\n",
        "\n",
        "def count_parameters(model, model_type):\n",
        "    if model_type == 'RF':\n",
        "        return model.n_estimators * (2**model.max_depth)\n",
        "    elif model_type == 'SVM':\n",
        "        return model.coef_.size\n",
        "    return model.count_params()\n",
        "\n",
        "results_df = evaluate_models(models, X_test, y_test)\n",
        "\n",
        "# Visualize Model Performance\n",
        "plt.figure(figsize=(10, 6))\n",
        "results_melted = results_df.melt(id_vars='Model', value_vars=['Recall', 'F1', 'Accuracy'], var_name='Metric', value_name='Score')\n",
        "sns.barplot(x='Model', y='Score', hue='Metric', data=results_melted)\n",
        "plt.title('Model Performance Comparison')\n",
        "plt.ylabel('Score')\n",
        "plt.ylim(0, 1)\n",
        "plt.show()\n",
        "\n",
        "print(\"\\n📊 Model Comparison:\")\n",
        "print(results_df.sort_values('Recall', ascending=False)[['Model', 'Recall', 'F1', 'Accuracy', 'Size (KB)', 'Speed (ms)']])"
      ]
    },
    {
      "cell_type": "markdown",
      "metadata": {
        "id": "YkN-rwXfl_43"
      },
      "source": [
        "## **Step 5: Model Selection**\n",
        "\n",
        "Selects the best model based on recall, F1 score, and hardware constraints.\n",
        "\n",
        "**Criteria**\n",
        "\n",
        "*   Primary: High recall\n",
        "*   Secondary: F1 score, accuracy\n",
        "*   Hardware: Size, speed, RAM usage (Raspberry Pi 3 Model B has ~1GB RAM, 1.2 GHz quad-core CPU)."
      ]
    },
    {
      "cell_type": "code",
      "execution_count": 5,
      "metadata": {
        "colab": {
          "base_uri": "https://localhost:8080/"
        },
        "id": "JzRfPadmArbl",
        "outputId": "e3d7d857-8c88-4c36-f9f0-517fddc63a7c"
      },
      "outputs": [
        {
          "output_type": "stream",
          "name": "stdout",
          "text": [
            "==================================================\n",
            "🔍 Step 5: Model Selection\n",
            "==================================================\n",
            "✅ Best model: RF\n",
            "- Recall: 1.000\n",
            "- F1 Score: 1.000\n",
            "- Size: 25.0 KB\n",
            "- Speed: 10 ms\n"
          ]
        }
      ],
      "source": [
        "print(\"=\" * 50)\n",
        "print(\"🔍 Step 5: Model Selection\")\n",
        "print(\"=\" * 50)\n",
        "\n",
        "# Select model with highest recall, considering hardware constraints\n",
        "best_model = results_df.loc[results_df['Recall'].idxmax()]\n",
        "print(f\"✅ Best model: {best_model['Model']}\")\n",
        "print(f\"- Recall: {best_model['Recall']:.3f}\")\n",
        "print(f\"- F1 Score: {best_model['F1']:.3f}\")\n",
        "print(f\"- Size: {best_model['Size (KB)']} KB\")\n",
        "print(f\"- Speed: {best_model['Speed (ms)']} ms\")"
      ]
    },
    {
      "cell_type": "markdown",
      "metadata": {
        "id": "Na4Ke87nmca0"
      },
      "source": [
        "## **Step 6: Raspberry Pi Deployment**\n",
        "\n",
        "Exports the selected model and configurations for deployment on a Raspberry Pi 3 Model B. The Raspberry Pi runs a Python script to load the model, interface with sensors (e.g., via I2C/SPI), and send alerts.\n",
        "\n",
        "### **Deployment Steps**\n",
        "\n",
        "1. Save the model and scaler.\n",
        "\n",
        "\n",
        "\n",
        "2. Generate a Python script for Raspberry Pi.\n",
        "\n",
        "\n",
        "\n",
        "3. Provide instructions for setting up the Raspberry Pi environment.\n"
      ]
    },
    {
      "cell_type": "code",
      "execution_count": 6,
      "metadata": {
        "colab": {
          "base_uri": "https://localhost:8080/"
        },
        "id": "aOvn3X8nBIJ7",
        "outputId": "c5e4b7dd-b5d8-44f1-e748-8befc13948e8"
      },
      "outputs": [
        {
          "output_type": "stream",
          "name": "stdout",
          "text": [
            "==================================================\n",
            "🚀 Step 6: Raspberry Pi Deployment\n",
            "==================================================\n",
            "✅ Model and scaler saved\n",
            "✅ Raspberry Pi script generated: seizure_detection_pi.py\n",
            "\n",
            "📝 Deployment Instructions for Raspberry Pi 3 Model B:\n",
            "1. Set up Raspberry Pi OS (Lite recommended for efficiency).\n",
            "2. Install Python 3 and required libraries:\n",
            "   $ sudo apt update\n",
            "   $ sudo apt install python3-pip\n",
            "   $ pip3 install numpy pandas scikit-learn tensorflow joblib\n",
            "3. Copy 'seizure_model.pkl' (or 'seizure_model.h5'), 'scaler.pkl', and 'seizure_detection_pi.py' to the Pi.\n",
            "4. Connect sensors (e.g., MPU6050 for accel/gyro, MAX30102 for heart rate) via I2C/SPI.\n",
            "5. Modify 'read_sensor_data()' in the script to interface with your sensors.\n",
            "6. Run the script:\n",
            "   $ python3 seizure_detection_pi.py\n",
            "7. Ensure internet connectivity for alerts (e.g., Wi-Fi).\n",
            "8. Optimize power usage (e.g., disable HDMI, use low-power mode).\n"
          ]
        }
      ],
      "source": [
        "print(\"=\" * 50)\n",
        "print(\"🚀 Step 6: Raspberry Pi Deployment\")\n",
        "print(\"=\" * 50)\n",
        "\n",
        "# Save Model and Scaler\n",
        "try:\n",
        "    best_model_name = best_model['Model']\n",
        "    model = models[best_model_name]\n",
        "    if best_model_name == 'NN':\n",
        "        model.save('seizure_model.h5')\n",
        "    else:\n",
        "        joblib.dump(model, 'seizure_model.pkl')\n",
        "    joblib.dump(scaler, 'scaler.pkl')\n",
        "    print(\"✅ Model and scaler saved\")\n",
        "except Exception as e:\n",
        "    print(f\"❌ Error saving model: {e}\")\n",
        "\n",
        "# Generate Raspberry Pi Script\n",
        "pi_script = f\"\"\"\n",
        "import numpy as np\n",
        "{'import tensorflow as tf' if best_model_name == 'NN' else 'import joblib'}\n",
        "\n",
        "# Load model and scaler\n",
        "model = {'tf.keras.models.load_model(\"seizure_model.h5\")' if best_model_name == 'NN' else 'joblib.load(\"seizure_model.pkl\")'}\n",
        "scaler = joblib.load(\"scaler.pkl\")\n",
        "\n",
        "# Simulated sensor data reading (replace with actual sensor code, e.g., I2C/SPI)\n",
        "def read_sensor_data():\n",
        "    # Example: Read from accelerometer, gyroscope, heart rate sensor\n",
        "    # Use libraries like smbus2 or spidev for I2C/SPI communication\n",
        "    return np.random.rand({len(sensor_cols)})  # Replace with real sensor data\n",
        "\n",
        "# Inference loop\n",
        "while True:\n",
        "    data = read_sensor_data()\n",
        "    data_scaled = scaler.transform([data])\n",
        "    prediction = model.predict(data_scaled)\n",
        "    prediction = (prediction > 0.5).astype(int) if '{best_model_name}' == 'NN' else prediction\n",
        "    if prediction[0] == 1:\n",
        "        print(\"⚠️ Seizure detected! Sending alert...\")\n",
        "        # Add code for SMS/email alert (e.g., using smtplib or Twilio API)\n",
        "    else:\n",
        "        print(\"✔ Normal activity\")\n",
        "    # Adjust sleep time based on sensor sampling rate\n",
        "    import time\n",
        "    time.sleep(0.1)\n",
        "\"\"\"\n",
        "\n",
        "# Save script\n",
        "with open('seizure_detection_pi.py', 'w') as f:\n",
        "    f.write(pi_script)\n",
        "print(\"✅ Raspberry Pi script generated: seizure_detection_pi.py\")\n",
        "\n",
        "# Deployment Instructions\n",
        "print(\"\\n📝 Deployment Instructions for Raspberry Pi 3 Model B:\")\n",
        "print(\"1. Set up Raspberry Pi OS (Lite recommended for efficiency).\")\n",
        "print(\"2. Install Python 3 and required libraries:\")\n",
        "print(\"   $ sudo apt update\")\n",
        "print(\"   $ sudo apt install python3-pip\")\n",
        "print(\"   $ pip3 install numpy pandas scikit-learn tensorflow joblib\")\n",
        "print(\"3. Copy 'seizure_model.pkl' (or 'seizure_model.h5'), 'scaler.pkl', and 'seizure_detection_pi.py' to the Pi.\")\n",
        "print(\"4. Connect sensors (e.g., MPU6050 for accel/gyro, MAX30102 for heart rate) via I2C/SPI.\")\n",
        "print(\"5. Modify 'read_sensor_data()' in the script to interface with your sensors.\")\n",
        "print(\"6. Run the script:\")\n",
        "print(\"   $ python3 seizure_detection_pi.py\")\n",
        "print(\"7. Ensure internet connectivity for alerts (e.g., Wi-Fi).\")\n",
        "print(\"8. Optimize power usage (e.g., disable HDMI, use low-power mode).\")"
      ]
    },
    {
      "cell_type": "markdown",
      "metadata": {
        "id": "yzfptKYGnHZU"
      },
      "source": [
        "## **Deployment Instructions**\n",
        "\n",
        "1. Transfer Files: Copy seizure_detection_pi.py, seizure_model.pkl (or seizure_model.h5), scaler.pkl, and preprocessing.json to your Raspberry Pi 3 Model B (e.g., via SCP or USB).\n",
        "\n",
        "\n",
        "\n",
        "2. Include Libraries:\n",
        "\n",
        "  *   Random Forest: Requires joblib (included in scikit-learn)\n",
        "\n",
        "  *   SVM: Requires joblib (included in scikit-learn).\n",
        "  *   Neural Network: Requires tensorflow.\n",
        "  *   Install on Raspberry Pi:\n",
        "      $ pip3 install numpy scikit-learn tensorflow joblib\n",
        "3. Implement Preprocessing: Use preprocessing.json to configure sensor data scaling in the Raspberry Pi script.\n",
        "\n",
        "4. Test: Validate the script with sample sensor data before production deployment.\n",
        "\n",
        "### **Notes**\n",
        "\n",
        "* Verify file paths in the Raspberry Pi script (seizure_detection_pi.py).\n",
        "\n",
        "\n",
        "\n",
        "* Monitor memory usage during inference (Raspberry Pi 3 Model B has ~1GB RAM).\n",
        "\n",
        "\n",
        "\n",
        "* Periodically validate model performance with real-world data.\n",
        "\n",
        "\n",
        "\n",
        "### **Visualizations Displayed**\n",
        "\n",
        "\n",
        "\n",
        "\n",
        "\n",
        "* **Class Distribution:** Original vs. SMOTE-balanced classes.\n",
        "\n",
        "\n",
        "\n",
        "* **Train/Test Split:** Full dataset, training, and test sets.\n",
        "\n",
        "\n",
        "\n",
        "* **Model Performance:** Recall, F1, Accuracy comparison."
      ]
    }
  ],
  "metadata": {
    "colab": {
      "provenance": [],
      "mount_file_id": "1Em62NXli1TO7yqNJduZXod0dcTJxxRNG",
      "authorship_tag": "ABX9TyM4V3/vnSC+HKBwnBuhBh3j",
      "include_colab_link": true
    },
    "kernelspec": {
      "display_name": "Python 3",
      "name": "python3"
    },
    "language_info": {
      "name": "python"
    }
  },
  "nbformat": 4,
  "nbformat_minor": 0
}